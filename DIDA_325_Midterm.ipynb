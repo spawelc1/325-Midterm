{
  "nbformat": 4,
  "nbformat_minor": 0,
  "metadata": {
    "colab": {
      "provenance": []
    },
    "kernelspec": {
      "name": "python3",
      "display_name": "Python 3"
    },
    "language_info": {
      "name": "python"
    }
  },
  "cells": [
    {
      "cell_type": "markdown",
      "source": [
        "# **Exploration of Voter Registration Data in 2016 and 2020:**\n",
        "\n",
        "The dataset we will be working is [here](https://raw.githubusercontent.com/fivethirtyeight/data/refs/heads/master/voter-registration/new-voter-registrations.csv).\n",
        "\n",
        "Here is more [info](https://github.com/fivethirtyeight/data/tree/master/voter-registration) on the origins of the data & the [article](https://fivethirtyeight.com/features/voter-registrations-are-way-way-down-during-the-pandemic/) behind the story."
      ],
      "metadata": {
        "id": "wQooEeYRFJc-"
      }
    },
    {
      "cell_type": "markdown",
      "source": [
        "# **Introduction**\n",
        "\n",
        "\n",
        "This project serves to visualize and analyze voter registration in 2016 and 2020. The goal of this project is to analyze data from 11 different states along with Washington D.C., and identify any trends in voter registration in these parts of the United States. This notebook gives insights on how and if voting regsitration has changed from the 2016 to 2020 elections across different months and if there are any patterns nationally or state wide. This information provided by this notebook helps us understand voter regsitration patterns and shifts in voter turnout. In addition, this analysis may be helpful to assess policy impacts and improve voter engagement.\n",
        "\n",
        "**Research Questions**\n",
        "\n",
        "National Trend\n",
        "\n",
        "1. Comparing the different election years data: 2016 vs 2020, how did the average of new registered voters change over the months of January to May? Was there any significant differences in new voter rgeistration between the two years?\n",
        "\n",
        "State Trend\n",
        "\n",
        "2. How did the patterns of new voter registrations from January to April of 2020 in Arizona and Georgia compare given that these two states who historically lean Republican  had a shift toward Democratic support in the 2020 election?."
      ],
      "metadata": {
        "id": "EEP8WwcePUzu"
      }
    },
    {
      "cell_type": "markdown",
      "source": [
        "# **Loading Libraries & Data**\n",
        "First we need to load all necessary libraries needed and the data to do our analysis:"
      ],
      "metadata": {
        "id": "udPFH5-UjHvG"
      }
    },
    {
      "cell_type": "code",
      "source": [
        "import pandas as pd\n",
        "import matplotlib.pyplot as plt\n",
        "import seaborn as sns\n",
        "import geopandas as gpd"
      ],
      "metadata": {
        "id": "4Ha_5Ng7EmTb"
      },
      "execution_count": null,
      "outputs": []
    },
    {
      "cell_type": "code",
      "source": [
        "voters = pd.read_csv(\"https://raw.githubusercontent.com/fivethirtyeight/data/refs/heads/master/voter-registration/new-voter-registrations.csv\")"
      ],
      "metadata": {
        "id": "OcDE94iIFC_f"
      },
      "execution_count": null,
      "outputs": []
    },
    {
      "cell_type": "markdown",
      "source": [
        "# **Data Processing**\n"
      ],
      "metadata": {
        "id": "EvmhQ4aMjYas"
      }
    },
    {
      "cell_type": "markdown",
      "source": [
        "To understand our data more lets look at the first five rows of data:"
      ],
      "metadata": {
        "id": "ExN1Y2VBjd-u"
      }
    },
    {
      "cell_type": "code",
      "source": [
        "voters.head(5)"
      ],
      "metadata": {
        "id": "tVyoWWUEFE8z"
      },
      "execution_count": null,
      "outputs": []
    },
    {
      "cell_type": "markdown",
      "source": [
        "**Jurisdiction:** This is the state in which the data is from. There are 11 total states and Washington D.C.\n",
        "\n",
        "**Year:** This represents the year in which the data is from: either 2016 or 2020.\n",
        "\n",
        "**Month:** This shows what month the data is from. All 12 juridcitions has data from January to April and five jurisdictions has data from January to May.\n",
        "\n",
        "**New registered voters:** This shows how many new people registered to vote for each state, month, and year.\n",
        "\n"
      ],
      "metadata": {
        "id": "xMxCJD4QP3hB"
      }
    },
    {
      "cell_type": "markdown",
      "source": [
        "### Check for missing data:"
      ],
      "metadata": {
        "id": "V4AdCw75iskT"
      }
    },
    {
      "cell_type": "code",
      "source": [
        "voters.isnull().values.any()"
      ],
      "metadata": {
        "id": "nhzCK0HFFF9R"
      },
      "execution_count": null,
      "outputs": []
    },
    {
      "cell_type": "markdown",
      "source": [
        "There is **no missing data** in this data frame."
      ],
      "metadata": {
        "id": "2iBr-vC-SFje"
      }
    },
    {
      "cell_type": "markdown",
      "source": [
        "### Check the data types:"
      ],
      "metadata": {
        "id": "M2fwyrdolVLq"
      }
    },
    {
      "cell_type": "code",
      "source": [
        "voters.dtypes"
      ],
      "metadata": {
        "id": "TMuoBLobe-Hg"
      },
      "execution_count": null,
      "outputs": []
    },
    {
      "cell_type": "markdown",
      "source": [
        "Jurisdiction and Month are **objects**.\n",
        "\n",
        "Year and New registered voters are **int64** (numeric)."
      ],
      "metadata": {
        "id": "NBus5TD-SvNo"
      }
    },
    {
      "cell_type": "markdown",
      "source": [
        "### Renaming Columns:"
      ],
      "metadata": {
        "id": "FgbLnSWpiJlT"
      }
    },
    {
      "cell_type": "code",
      "source": [
        "voters = voters.rename(columns={\"Jurisdiction\": \"NAME\", \"New registered voters\": \"registered_voters\"})"
      ],
      "metadata": {
        "id": "bqcc9myTFHQW"
      },
      "execution_count": null,
      "outputs": []
    },
    {
      "cell_type": "code",
      "source": [
        "print(voters.columns)"
      ],
      "metadata": {
        "id": "SYkvO8myfCNg"
      },
      "execution_count": null,
      "outputs": []
    },
    {
      "cell_type": "markdown",
      "source": [
        "I renamed the \"Jurisdiction\" column to **\"NAME\"** and the \"New registered voters\" column to **\"registered_voters\"** for **simplicity** purposes when using it throughout the notebook."
      ],
      "metadata": {
        "id": "014S7WclTqff"
      }
    },
    {
      "cell_type": "code",
      "source": [
        "voters.NAME.value_counts()\n",
        "# This shows the different states in the data set, which is a small portion of the United States."
      ],
      "metadata": {
        "id": "iOmivDHvFJWW"
      },
      "execution_count": null,
      "outputs": []
    },
    {
      "cell_type": "markdown",
      "source": [
        "### Limitations:\n",
        "\n",
        "There are limations to the data that should be discussed. One limitation is that voting information is only provided for 11 states and Washington, D.C. This is a small portion of the United States, therefore this data is **not generalizable** of the country. Also, there are no population sizes provided for each state; this information may give more insight into the number of registered voters in that state and better allow researchers to compare across different states. Data is also only provided for the earlier part of the year; data is not provided for May-Decemmber which is closer to when the elction falls (only some jurisdictions have info for May)."
      ],
      "metadata": {
        "id": "qjyUF46Sa9mi"
      }
    },
    {
      "cell_type": "markdown",
      "source": [
        "# **Exploratory Data Analysis**"
      ],
      "metadata": {
        "id": "_u3e0lxol9RU"
      }
    },
    {
      "cell_type": "code",
      "source": [
        "voters.loc[voters.registered_voters==voters.registered_voters.max()]"
      ],
      "metadata": {
        "id": "vsDudPp-FKQM"
      },
      "execution_count": null,
      "outputs": []
    },
    {
      "cell_type": "markdown",
      "source": [
        "In February, 2020 **California** had the highest amount of new voter registration of **238,281** new voters, exceeding the registration numbers for any other month, year, or state within this data set."
      ],
      "metadata": {
        "id": "lTB88tRYcCx8"
      }
    },
    {
      "cell_type": "code",
      "source": [
        "avg_voters = voters[\"registered_voters\"].mean()\n",
        "print(avg_voters)"
      ],
      "metadata": {
        "id": "xFlNiR5MFK6x"
      },
      "execution_count": null,
      "outputs": []
    },
    {
      "cell_type": "markdown",
      "source": [
        "Across all 11 states and Washington D.C., during select months in 2016 and 2020, there was an average of **48,223** new voter registrations."
      ],
      "metadata": {
        "id": "72GpIzKGcu1b"
      }
    },
    {
      "cell_type": "code",
      "source": [
        "high_voters = voters.loc[voters[\"registered_voters\"] > avg_voters]\n",
        "print(high_voters)"
      ],
      "metadata": {
        "id": "bT8wyyt-FMvP"
      },
      "execution_count": null,
      "outputs": []
    },
    {
      "cell_type": "code",
      "source": [
        "print(len(high_voters))\n",
        "print(len(voters))"
      ],
      "metadata": {
        "id": "hDdd1KGWfiuq"
      },
      "execution_count": null,
      "outputs": []
    },
    {
      "cell_type": "markdown",
      "source": [
        "A new dataframe was created, called **\"high voters\"** which includes only instances where the number of new voter registratios exceeded the average of 48,223. This occured **36** times out of the the 106 data points."
      ],
      "metadata": {
        "id": "pgf3yav9dJDs"
      }
    },
    {
      "cell_type": "code",
      "source": [
        "high_voters.groupby(\"NAME\")[\"registered_voters\"].count()"
      ],
      "metadata": {
        "id": "-ErvpKDRFOLQ"
      },
      "execution_count": null,
      "outputs": []
    },
    {
      "cell_type": "markdown",
      "source": [
        "To understand **state level differences** in voter registration, the frequency with which each state **surpassed** the **national average** for new voter registration was investigated here.\n",
        "For example, Arizona exceeded the national average 3 times, California did 7 times and so on."
      ],
      "metadata": {
        "id": "7vJbL_NQdvUG"
      }
    },
    {
      "cell_type": "code",
      "source": [
        "avg_state = voters.groupby(\"NAME\")[\"registered_voters\"].mean()\n",
        "# this code calculates the average voter registration per state\n",
        "top_3_states = avg_state.sort_values(ascending=False).head(3)\n",
        "print(top_3_states)"
      ],
      "metadata": {
        "id": "xus18i6nFPFE"
      },
      "execution_count": null,
      "outputs": []
    },
    {
      "cell_type": "markdown",
      "source": [
        "To determine which **states** had the **highest** levels of voter registration, the average number of new registrations was calculated by each states, with the **top 3** states ranked accordingly."
      ],
      "metadata": {
        "id": "tq5oqf2YeAjN"
      }
    },
    {
      "cell_type": "markdown",
      "source": [
        "# **Data Visualizations**"
      ],
      "metadata": {
        "id": "yZtT1NZmqaDY"
      }
    },
    {
      "cell_type": "markdown",
      "source": [
        "### Examining total new registered voters per state:\n"
      ],
      "metadata": {
        "id": "sWvV4xo44kAm"
      }
    },
    {
      "cell_type": "code",
      "source": [
        "total_per_state = voters.groupby(\"NAME\")[\"registered_voters\"].sum().reset_index()\n",
        "total_per_state[\"NAME\"]= total_per_state[\"NAME\"].replace({\"District of Columbia\": \"DC\", \"Maryland\": \"MD\", \"North Carolina\": \"NC\",\n",
        "                                                          \"Texas\": \"TX\", \"Virginia\": \"VA\", \"Arizona\": \"AZ\", \"California\": \"CA\", \"Colorado\": \"CO\", \"Delaware\": \"DE\", \"Florida\": \"FL\", \"Georgia\": \"GA\", \"Illinois\": \"IL\"})"
      ],
      "metadata": {
        "id": "ZUHIW_YaFR3c"
      },
      "execution_count": null,
      "outputs": []
    },
    {
      "cell_type": "code",
      "source": [
        "plt.figure(figsize=(10,10))\n",
        "sns.barplot(total_per_state, x=\"NAME\", hue=\"NAME\", y=\"registered_voters\", palette=\"viridis\")\n",
        "plt.xlabel(\"State\", fontsize=12)\n",
        "plt.ylabel(\"Total Registered Voters (Millions)\", fontsize=12)\n",
        "plt.title(\"Total New Registered Voters per State for 2016 and 2020\", fontsize = 14)\n",
        "plt.show()"
      ],
      "metadata": {
        "id": "uRhrVGEqf473"
      },
      "execution_count": null,
      "outputs": []
    },
    {
      "cell_type": "markdown",
      "source": [
        "This bar plot displays the total new voter registration per state for the years 2016 and 2020. **California** and **Texas** overall had the **highest** amount of new registered voters both nearing **1.2 million** new registered voters. Whereas, **Delaware** and **Washington D.C,** has the **lowest** total new registered voters from 2016 and 2020, with **under** **100,000** new registered voters. This difference could be due to the significant **population differences** in these areas. Overall, there is significant variation in total voter registration across the different states."
      ],
      "metadata": {
        "id": "nUMsz0RqeUA-"
      }
    },
    {
      "cell_type": "markdown",
      "source": [
        "### Comparing voter registation in 2016 and 2020:\n",
        "\n",
        "**Question 1**: Comparing the different election years data: 2016 vs 2020, how did the average of new registered voters change over the months of January to May? Was there any signficant differences in new voter registration between the two years?"
      ],
      "metadata": {
        "id": "RNpnadEWq5fu"
      }
    },
    {
      "cell_type": "code",
      "source": [
        "colors =[\"#1F92DA\", \"#685DDA\", \"#2DB874\", \"#E9962F\", \"#D172CD\"]\n",
        "sns.barplot(voters, x=\"Year\", y=\"registered_voters\", hue= \"Month\", palette=colors)\n",
        "plt.xlabel(\"Year\", fontsize = 11)\n",
        "plt.ylabel(\"Average Registered Voters\", fontsize = 11)\n",
        "plt.title(\"Average Registered Voters for States in the US\", fontsize = 13)"
      ],
      "metadata": {
        "id": "VMPnqr_-FTqZ"
      },
      "execution_count": null,
      "outputs": []
    },
    {
      "cell_type": "markdown",
      "source": [
        "To compare voter registration in 2016 and 2020, the average registered voters for each month are examined in this bar plot. In **both** 2016 and 2020, voter registration numbers appears to be **higher** in **earlier** **months** (January, February, March) compared to April and May. Therefore, 2016 data appears to be **normally distributed**. In **2016**, there was **more** new voter registration in the months of April and May compared to 2020 where there was a **steep** **decline**, which is *not* normally distributed like 2016 data. Since data from May is not provided for every state, we can say that is probably why May has lower registered voters. However, it is interesting that **April** has signficantly **less** new registered voters in **2020**."
      ],
      "metadata": {
        "id": "YG8WQTd7fHZE"
      }
    },
    {
      "cell_type": "markdown",
      "source": [
        "### Florida vs Georgia Voter Registration in 2020:\n",
        "**Question 2:**  How did the patterns of new voter registrations from January to April of 2020 in Arizona and Georgia compare given that these two states who historically lean Republican  had a shift toward Democratic support in the 2020 election."
      ],
      "metadata": {
        "id": "SbGMnC5XqqoK"
      }
    },
    {
      "cell_type": "code",
      "source": [
        "voters_2020 = voters[voters[\"Year\"] ==2020].copy()\n",
        "florida_georgia = voters_2020[voters_2020[\"NAME\"].isin([\"Arizona\", \"Georgia\"])]\n",
        "sns.lineplot(florida_georgia, x = \"Month\", y = \"registered_voters\", hue=\"NAME\", palette={\"Arizona\": \"purple\", \"Georgia\": \"blue\"})\n",
        "plt.ylim (0, 60000)\n",
        "plt.xlabel(\"Month\", fontsize = 11)\n",
        "plt.ylabel(\"New Registered Voters\", fontsize = 11)\n",
        "plt.title(\"Comparison of Arizona & Georgia New Voter Registrations in 2020\")\n",
        "plt.show()"
      ],
      "metadata": {
        "id": "tb0lz5Aky5At"
      },
      "execution_count": null,
      "outputs": []
    },
    {
      "cell_type": "markdown",
      "source": [
        "Both states experienced a **rise** in voters from **January** to **Feburary**, whereas after February, registration numbers took a **drop** in both states. The increased registrations earlier in the year could reflect early campaigning or growing political awareness, though we don't know who registered and the demorgapic data of new registered voters. Overall, both states show similar trends in the amount of new registered voters over the select months.  "
      ],
      "metadata": {
        "id": "rIVvGNpw0qiV"
      }
    },
    {
      "cell_type": "markdown",
      "source": [
        "# **Mapping**\n",
        "\n",
        "### Load in shape file data:"
      ],
      "metadata": {
        "id": "1d2JJW9lu1zz"
      }
    },
    {
      "cell_type": "code",
      "source": [
        "!pip install gitpython\n",
        "!git clone https://github.com/SFord87/325-Datasets\n",
        "shapefile = \"/content/325-Datasets/cb_2018_us_state_500k.shp\"\n",
        "states = gpd.read_file(shapefile)"
      ],
      "metadata": {
        "id": "He5W6DLOFVud"
      },
      "execution_count": null,
      "outputs": []
    },
    {
      "cell_type": "markdown",
      "source": [
        "### Set bounding box:\n"
      ],
      "metadata": {
        "id": "BWGbGfDFvIty"
      }
    },
    {
      "cell_type": "code",
      "source": [
        "minx, miny, maxx, maxy = -125, 24.396308, -66.93457, 49.384358\n",
        "bbox = states.cx[minx:maxx, miny:maxy]"
      ],
      "metadata": {
        "id": "TJ5plxESFYIG"
      },
      "execution_count": null,
      "outputs": []
    },
    {
      "cell_type": "markdown",
      "source": [
        "To focus on voter registration data within the continental US, a bounding box defines geographical boundaries using longitude and latitude coordinates, which will be used for subsequent analysis."
      ],
      "metadata": {
        "id": "fKu4AH1JgkAl"
      }
    },
    {
      "cell_type": "markdown",
      "source": [
        "### Lets create a dataframe that shows the average voter registration per state:"
      ],
      "metadata": {
        "id": "aI6Sgm1f2Vks"
      }
    },
    {
      "cell_type": "code",
      "source": [
        "state_avg = voters.groupby(\"NAME\")[\"registered_voters\"].mean().reset_index()\n",
        "print(state_avg)"
      ],
      "metadata": {
        "id": "BMiDmar7FZ9i"
      },
      "execution_count": null,
      "outputs": []
    },
    {
      "cell_type": "markdown",
      "source": [
        "### Merge the above dataframe results with the mapping data:\n"
      ],
      "metadata": {
        "id": "viifmX-n2a03"
      }
    },
    {
      "cell_type": "code",
      "source": [
        "state_avg = bbox.merge(state_avg, on=\"NAME\", how=\"inner\")\n",
        "state_avg.head(2)"
      ],
      "metadata": {
        "id": "m9pjmpYAnwMd"
      },
      "execution_count": null,
      "outputs": []
    },
    {
      "cell_type": "markdown",
      "source": [
        "To visualize voter registration patterns on a map, we need to combine the geographical data of the continental US with the average voter registration for each state."
      ],
      "metadata": {
        "id": "Qq42O01hhifX"
      }
    },
    {
      "cell_type": "markdown",
      "source": [
        "### Average Registered Voters on US Map:\n"
      ],
      "metadata": {
        "id": "GcOKuSVb2fHc"
      }
    },
    {
      "cell_type": "code",
      "source": [
        "fig = plt.figure(figsize=(25,15))\n",
        "ax = fig.add_subplot()\n",
        "\n",
        "bbox.boundary.plot(ax=ax, color=\"black\", linewidth=0.25)\n",
        "state_avg.apply(lambda x: ax.annotate(text= [x.STUSPS, x.registered_voters],\n",
        "    xy=(x.geometry.centroid.x, x.geometry.centroid.y),ha=\"center\", fontsize=12),axis=1)\n",
        "state_avg.plot(column=\"registered_voters\", ax=ax, legend=True,cmap=\"RdYlGn\",\n",
        "               legend_kwds={\"label\": \"Average Registered Voters\",\n",
        "               \"orientation\": \"horizontal\"})\n",
        "plt.title(\"Average New Registered Voters (2016 & 2020 data)\", fontsize =22)\n",
        "plt.show()"
      ],
      "metadata": {
        "id": "vNFKjcVkFfsA",
        "colab": {
          "base_uri": "https://localhost:8080/",
          "height": 271
        },
        "outputId": "d5abf943-7502-4671-9ee3-c121af39406b"
      },
      "execution_count": 1,
      "outputs": [
        {
          "output_type": "error",
          "ename": "NameError",
          "evalue": "name 'plt' is not defined",
          "traceback": [
            "\u001b[0;31m---------------------------------------------------------------------------\u001b[0m",
            "\u001b[0;31mNameError\u001b[0m                                 Traceback (most recent call last)",
            "\u001b[0;32m<ipython-input-1-e44e7212309c>\u001b[0m in \u001b[0;36m<cell line: 0>\u001b[0;34m()\u001b[0m\n\u001b[0;32m----> 1\u001b[0;31m \u001b[0mfig\u001b[0m \u001b[0;34m=\u001b[0m \u001b[0mplt\u001b[0m\u001b[0;34m.\u001b[0m\u001b[0mfigure\u001b[0m\u001b[0;34m(\u001b[0m\u001b[0mfigsize\u001b[0m\u001b[0;34m=\u001b[0m\u001b[0;34m(\u001b[0m\u001b[0;36m25\u001b[0m\u001b[0;34m,\u001b[0m\u001b[0;36m15\u001b[0m\u001b[0;34m)\u001b[0m\u001b[0;34m)\u001b[0m\u001b[0;34m\u001b[0m\u001b[0;34m\u001b[0m\u001b[0m\n\u001b[0m\u001b[1;32m      2\u001b[0m \u001b[0max\u001b[0m \u001b[0;34m=\u001b[0m \u001b[0mfig\u001b[0m\u001b[0;34m.\u001b[0m\u001b[0madd_subplot\u001b[0m\u001b[0;34m(\u001b[0m\u001b[0;34m)\u001b[0m\u001b[0;34m\u001b[0m\u001b[0;34m\u001b[0m\u001b[0m\n\u001b[1;32m      3\u001b[0m \u001b[0;34m\u001b[0m\u001b[0m\n\u001b[1;32m      4\u001b[0m \u001b[0mbbox\u001b[0m\u001b[0;34m.\u001b[0m\u001b[0mboundary\u001b[0m\u001b[0;34m.\u001b[0m\u001b[0mplot\u001b[0m\u001b[0;34m(\u001b[0m\u001b[0max\u001b[0m\u001b[0;34m=\u001b[0m\u001b[0max\u001b[0m\u001b[0;34m,\u001b[0m \u001b[0mcolor\u001b[0m\u001b[0;34m=\u001b[0m\u001b[0;34m\"black\"\u001b[0m\u001b[0;34m,\u001b[0m \u001b[0mlinewidth\u001b[0m\u001b[0;34m=\u001b[0m\u001b[0;36m0.25\u001b[0m\u001b[0;34m)\u001b[0m\u001b[0;34m\u001b[0m\u001b[0;34m\u001b[0m\u001b[0m\n\u001b[1;32m      5\u001b[0m state_avg.apply(lambda x: ax.annotate(text= [x.STUSPS, x.registered_voters],\n",
            "\u001b[0;31mNameError\u001b[0m: name 'plt' is not defined"
          ]
        }
      ]
    },
    {
      "cell_type": "markdown",
      "source": [
        "\n",
        "This map provides a clear visual representation of voter registration patterns, highlighting the average number of new voter registrations for each state. States with *higher* average registrations are shown in shades of **green**, while states with *lower* averages are shown in shades of **red**. **Texas** and **California** are depicted in shades of green which indicates a *higher* average of new registered voters. **Delaware** and **Colorado** have *lower* registered numbers, shown in shades of red. **Florida** sits in the middle of the range, depicted in a **yellow** shade on the map."
      ],
      "metadata": {
        "id": "XOjXsaXO_hY8"
      }
    },
    {
      "cell_type": "markdown",
      "source": [
        "# **Conclusions & Future Research**\n",
        "\n"
      ],
      "metadata": {
        "id": "iHRHv-t14VI-"
      }
    },
    {
      "cell_type": "markdown",
      "source": [
        "**Insights:**\n",
        "This notebook analyzed the differences in new voter registration over select months in 2016 and 2020 for a small sample of the United States. In general, new voter registration numbers are higher in earlier months (January-March), specifically in 2020. This is illustrated in the graph: Average Registered Voters for States in the US. Additionally, when looking at the line graph: Comparison of Arizona & Georgia New Voter Registrations in 2020, we can see a rise of new registered voters in January and February, where as the numbers dropped off after Febuary. This trend could be due to the COVID-19 outbreak in 2020. In addition, more populated states such as Texas and California, have higher numbers of new registered voters and lower populated states have lower numbers, such that in February, 2020 **California** had the highest amount of new voters of **238,281**. This is also seen in the bar graph: Total New Registered Voters per State for 2016 and 2020 and the map: Average Registered Voters (2016 and 2020 data)\n",
        "\n",
        "**Suggestions:**\n",
        "Given that new voter registration declined after March in both 2016 and 2020, I would suggest examining awareness campaigns that were used before this period and also focus on demographics with observed lower registration rates. It is important to recognize the pandemics influence on the  steeper drop in registered voters in 2020 as a result of closings, lockdowns, and social distancing. Accordingly, it is important to ensure the ability to register to vote remains accessible to anyone that is eligible, as well as exploring areas where it is not as accessible to ensure voter participation even beyond the pandemic to strengthen democracy.\n",
        "\n",
        "**Next Steps:**\n",
        "Gathering more data to include in this analysis of new voter registration in the United States will be helpful in answering our research questions more completely. For instance, including data for the rest of the states within the United States will help understand voter regsitration of the United States more thoroughly, as well as collecting data for the full year would help make better conclusions. It would be interesting to explore voter registraion between Republican and Democratic states to see the influence political affiliation may have on certain election years to undertstand factors driving voter registration numbers. Specifically, to explore our second research question more, collecting demographic information of the voters to see if states like Arizona and Georgia for example, who were historically more Republican and switched after the 2020 election, differ in new voter registration. Also including data from past presidential elections prior to 2016 and including 2024 election data can better explore changes in voter registration over time and compare to 2020 to evaluate potential differences caused by COVID-19. Lastly, to address one of the limitations, future research should include voter registration in terms of proportions to the states popualtion size to compare across states more accurately."
      ],
      "metadata": {
        "id": "W41x-5TBR7m4"
      }
    },
    {
      "cell_type": "markdown",
      "source": [
        "##Github (3 points)\n",
        "Post this to your Github and include the accessible link either here or on brightspace."
      ],
      "metadata": {
        "id": "JN7PjbbV7kUB"
      }
    },
    {
      "cell_type": "code",
      "source": [],
      "metadata": {
        "id": "F5FVDQk578qx"
      },
      "execution_count": null,
      "outputs": []
    },
    {
      "cell_type": "markdown",
      "source": [
        "# Academic Integrity Statement\n",
        "\n",
        "By writing my name in the cell below, I certify that:\n",
        "\n",
        "1. I did not use resources other than:\n",
        "   * the Python notebooks provided by the instructor,\n",
        "   * links provided in this notebook,\n",
        "   * the assigned readings, and\n",
        "   * my own personal notes\n",
        "2. This means that I did not:\n",
        "   * look up anything on Google, or Stack Overflow, Chatgpt, &c.,\n",
        "   * discuss the content of the exam with *anyone* other than the instructors or TAs, or\n",
        "   * do anything that technically doen't break these rules but is against their spirit."
      ],
      "metadata": {
        "id": "OX_8cUSY8cQe"
      }
    },
    {
      "cell_type": "markdown",
      "source": [
        "Sydney Pawelczyk"
      ],
      "metadata": {
        "id": "q2eIoqnAR2_I"
      }
    }
  ]
}